{
 "cells": [
  {
   "cell_type": "code",
   "execution_count": 1,
   "id": "initial_id",
   "metadata": {
    "collapsed": true,
    "ExecuteTime": {
     "end_time": "2024-03-27T17:42:07.668988Z",
     "start_time": "2024-03-27T17:42:06.740812Z"
    }
   },
   "outputs": [],
   "source": [
    "from scripts.utils import create_birthday_event, get_creds\n",
    "\n",
    "from googleapiclient.discovery import build"
   ]
  },
  {
   "cell_type": "code",
   "outputs": [
    {
     "name": "stdout",
     "output_type": "stream",
     "text": [
      "Please visit this URL to authorize this application: https://accounts.google.com/o/oauth2/auth?response_type=code&client_id=171089021807-9bji1rjv43lesd9q8069a2s30l1em7t3.apps.googleusercontent.com&redirect_uri=http%3A%2F%2Flocalhost%3A59856%2F&scope=https%3A%2F%2Fwww.googleapis.com%2Fauth%2Fcalendar.events+https%3A%2F%2Fwww.googleapis.com%2Fauth%2Fcalendar&state=hX1K2NYt2U30ZtrIfllXNx2d8Pi01n&access_type=offline\n"
     ]
    }
   ],
   "source": [
    "creds = get_creds()\n",
    "\n",
    "calendar_service = build(\"calendar\", \"v3\", credentials=creds)"
   ],
   "metadata": {
    "collapsed": false,
    "ExecuteTime": {
     "end_time": "2024-03-27T18:04:57.962527Z",
     "start_time": "2024-03-27T18:04:21.437663Z"
    }
   },
   "id": "b751b2d53f3121b5",
   "execution_count": 20
  },
  {
   "cell_type": "code",
   "outputs": [
    {
     "data": {
      "text/plain": "        nom  jour  mois\n0       费文思    30     9\n1       林潇潇     8    11\n2        珠珠    23     9\n3        姑姑    20     6\n4        豆豆    17     5\n5      张园姐姐    25     9\n6        妈妈     2    12\n7        爸爸    21     6\n8        小宝    27    12\n9        宝宝    12     8\n10  natasha    15     5",
      "text/html": "<div>\n<style scoped>\n    .dataframe tbody tr th:only-of-type {\n        vertical-align: middle;\n    }\n\n    .dataframe tbody tr th {\n        vertical-align: top;\n    }\n\n    .dataframe thead th {\n        text-align: right;\n    }\n</style>\n<table border=\"1\" class=\"dataframe\">\n  <thead>\n    <tr style=\"text-align: right;\">\n      <th></th>\n      <th>nom</th>\n      <th>jour</th>\n      <th>mois</th>\n    </tr>\n  </thead>\n  <tbody>\n    <tr>\n      <th>0</th>\n      <td>费文思</td>\n      <td>30</td>\n      <td>9</td>\n    </tr>\n    <tr>\n      <th>1</th>\n      <td>林潇潇</td>\n      <td>8</td>\n      <td>11</td>\n    </tr>\n    <tr>\n      <th>2</th>\n      <td>珠珠</td>\n      <td>23</td>\n      <td>9</td>\n    </tr>\n    <tr>\n      <th>3</th>\n      <td>姑姑</td>\n      <td>20</td>\n      <td>6</td>\n    </tr>\n    <tr>\n      <th>4</th>\n      <td>豆豆</td>\n      <td>17</td>\n      <td>5</td>\n    </tr>\n    <tr>\n      <th>5</th>\n      <td>张园姐姐</td>\n      <td>25</td>\n      <td>9</td>\n    </tr>\n    <tr>\n      <th>6</th>\n      <td>妈妈</td>\n      <td>2</td>\n      <td>12</td>\n    </tr>\n    <tr>\n      <th>7</th>\n      <td>爸爸</td>\n      <td>21</td>\n      <td>6</td>\n    </tr>\n    <tr>\n      <th>8</th>\n      <td>小宝</td>\n      <td>27</td>\n      <td>12</td>\n    </tr>\n    <tr>\n      <th>9</th>\n      <td>宝宝</td>\n      <td>12</td>\n      <td>8</td>\n    </tr>\n    <tr>\n      <th>10</th>\n      <td>natasha</td>\n      <td>15</td>\n      <td>5</td>\n    </tr>\n  </tbody>\n</table>\n</div>"
     },
     "execution_count": 4,
     "metadata": {},
     "output_type": "execute_result"
    }
   ],
   "source": [
    "import pandas as pd\n",
    "\n",
    "birthday_excel = \"../data/birthdays.xlsx\"\n",
    "\n",
    "df = pd.read_excel(birthday_excel)\n",
    "df"
   ],
   "metadata": {
    "collapsed": false,
    "ExecuteTime": {
     "end_time": "2024-03-27T17:45:14.347892Z",
     "start_time": "2024-03-27T17:45:13.066353Z"
    }
   },
   "id": "c59152fb89697b0a",
   "execution_count": 4
  },
  {
   "cell_type": "code",
   "outputs": [
    {
     "name": "stdout",
     "output_type": "stream",
     "text": [
      "(0, nom     费文思\n",
      "jour     30\n",
      "mois      9\n",
      "Name: 0, dtype: object)\n",
      "(1, nom     林潇潇\n",
      "jour      8\n",
      "mois     11\n",
      "Name: 1, dtype: object)\n",
      "(2, nom     珠珠\n",
      "jour    23\n",
      "mois     9\n",
      "Name: 2, dtype: object)\n",
      "(3, nom     姑姑\n",
      "jour    20\n",
      "mois     6\n",
      "Name: 3, dtype: object)\n",
      "(4, nom     豆豆\n",
      "jour    17\n",
      "mois     5\n",
      "Name: 4, dtype: object)\n",
      "(5, nom     张园姐姐\n",
      "jour      25\n",
      "mois       9\n",
      "Name: 5, dtype: object)\n",
      "(6, nom     妈妈\n",
      "jour     2\n",
      "mois    12\n",
      "Name: 6, dtype: object)\n",
      "(7, nom     爸爸\n",
      "jour    21\n",
      "mois     6\n",
      "Name: 7, dtype: object)\n",
      "(8, nom     小宝\n",
      "jour    27\n",
      "mois    12\n",
      "Name: 8, dtype: object)\n",
      "(9, nom     宝宝\n",
      "jour    12\n",
      "mois     8\n",
      "Name: 9, dtype: object)\n",
      "(10, nom     natasha\n",
      "jour         15\n",
      "mois          5\n",
      "Name: 10, dtype: object)\n"
     ]
    }
   ],
   "source": [
    "for row in df.iterrows():\n",
    "    print(row)"
   ],
   "metadata": {
    "collapsed": false,
    "ExecuteTime": {
     "end_time": "2024-03-27T17:54:16.987630Z",
     "start_time": "2024-03-27T17:54:16.971195Z"
    }
   },
   "id": "453fbcfbda784865",
   "execution_count": 15
  },
  {
   "cell_type": "code",
   "outputs": [
    {
     "name": "stderr",
     "output_type": "stream",
     "text": [
      "11it [00:05,  1.97it/s]\n"
     ]
    }
   ],
   "source": [
    "from tqdm import tqdm\n",
    "from googleapiclient.errors import HttpError\n",
    "\n",
    "for row in tqdm(df.iterrows()):\n",
    "    row = row[1]\n",
    "    birthday_event = create_birthday_event(person_name=row[\"nom\"], month=row[\"mois\"], day=row[\"jour\"])\n",
    "    try:\n",
    "        (calendar_service\n",
    "         .events()\n",
    "         .insert(calendarId=\"primary\", body=birthday_event)\n",
    "         .execute()\n",
    "         )\n",
    "    except HttpError as e:\n",
    "        print(f\"An error occurred: {e}\")"
   ],
   "metadata": {
    "collapsed": false,
    "ExecuteTime": {
     "end_time": "2024-03-27T17:57:21.240207Z",
     "start_time": "2024-03-27T17:57:15.638323Z"
    }
   },
   "id": "47465f4738b8bce9",
   "execution_count": 19
  },
  {
   "cell_type": "code",
   "outputs": [],
   "source": [],
   "metadata": {
    "collapsed": false
   },
   "id": "92f42dcdaecc35ea"
  }
 ],
 "metadata": {
  "kernelspec": {
   "display_name": "Python 3",
   "language": "python",
   "name": "python3"
  },
  "language_info": {
   "codemirror_mode": {
    "name": "ipython",
    "version": 2
   },
   "file_extension": ".py",
   "mimetype": "text/x-python",
   "name": "python",
   "nbconvert_exporter": "python",
   "pygments_lexer": "ipython2",
   "version": "2.7.6"
  }
 },
 "nbformat": 4,
 "nbformat_minor": 5
}
