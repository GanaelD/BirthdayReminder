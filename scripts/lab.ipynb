{
 "cells": [
  {
   "cell_type": "code",
   "execution_count": 1,
   "id": "initial_id",
   "metadata": {
    "collapsed": true,
    "ExecuteTime": {
     "end_time": "2024-03-19T21:49:47.883218Z",
     "start_time": "2024-03-19T21:49:47.079173Z"
    }
   },
   "outputs": [],
   "source": [
    "from scripts.utils import create_birthday_event, get_creds\n",
    "\n",
    "from googleapiclient.discovery import build"
   ]
  },
  {
   "cell_type": "code",
   "outputs": [],
   "source": [
    "birthday = [\"宝宝\", 8, 12]\n",
    "birthday_event = create_birthday_event(*birthday)\n",
    "\n",
    "creds = get_creds()\n",
    "service = build(\"calendar\", \"v3\", credentials=creds)"
   ],
   "metadata": {
    "collapsed": false,
    "ExecuteTime": {
     "end_time": "2024-03-19T21:51:05.884874Z",
     "start_time": "2024-03-19T21:51:05.859447Z"
    }
   },
   "id": "a35be8820da169f3",
   "execution_count": 6
  },
  {
   "cell_type": "code",
   "outputs": [],
   "source": [
    "from googleapiclient.errors import HttpError\n",
    "import json\n",
    "\n",
    "#birthday_event = json.dumps(birthday_event)\n",
    "try:\n",
    "    event_result = service.events() \\\n",
    "        .insert(calendarId=\"primary\", body=birthday_event) \\\n",
    "        .execute()\n",
    "except HttpError as e:\n",
    "    print(f\"An error occurred: {e}\")"
   ],
   "metadata": {
    "collapsed": false,
    "ExecuteTime": {
     "end_time": "2024-03-19T21:51:06.803409Z",
     "start_time": "2024-03-19T21:51:06.211156Z"
    }
   },
   "id": "6afc922e61cf49c8",
   "execution_count": 7
  },
  {
   "cell_type": "code",
   "outputs": [],
   "source": [],
   "metadata": {
    "collapsed": false
   },
   "id": "ef2fa4dd8388d9ae"
  }
 ],
 "metadata": {
  "kernelspec": {
   "display_name": "Python 3",
   "language": "python",
   "name": "python3"
  },
  "language_info": {
   "codemirror_mode": {
    "name": "ipython",
    "version": 2
   },
   "file_extension": ".py",
   "mimetype": "text/x-python",
   "name": "python",
   "nbconvert_exporter": "python",
   "pygments_lexer": "ipython2",
   "version": "2.7.6"
  }
 },
 "nbformat": 4,
 "nbformat_minor": 5
}
